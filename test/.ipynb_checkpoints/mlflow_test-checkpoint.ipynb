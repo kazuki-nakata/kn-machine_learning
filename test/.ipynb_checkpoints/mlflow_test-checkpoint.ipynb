{
 "cells": [
  {
   "cell_type": "code",
   "execution_count": 1,
   "metadata": {},
   "outputs": [],
   "source": [
    "import os\n",
    "from random import random, randint\n",
    "from mlflow import log_metric, log_param, log_artifacts\n",
    "import mlflow\n",
    "tracking_uri = 'http://localhost:5000'\n",
    "mlflow.set_tracking_uri(tracking_uri)\n"
   ]
  },
  {
   "cell_type": "code",
   "execution_count": 3,
   "metadata": {},
   "outputs": [
    {
     "name": "stdout",
     "output_type": "stream",
     "text": [
      "Running mlflow_tracking.py\n"
     ]
    }
   ],
   "source": [
    "if __name__ == \"__main__\":\n",
    "    print(\"Running mlflow_tracking.py\")\n",
    "\n",
    "    with mlflow.start_run(nested=True) as run:\n",
    "        #mlflow.get_artifact_uri()\n",
    "        log_param(\"param1\", randint(0, 100))\n",
    "        log_metric(\"foo\", random())\n",
    "        log_metric(\"foo\", random() + 1)\n",
    "        log_metric(\"foo\", random() + 2)\n",
    "        if not os.path.exists(\"outputs\"):\n",
    "            os.makedirs(\"outputs\")\n",
    "        with open(\"outputs/test.txt\", \"w\") as f:\n",
    "            f.write(\"hello world!\")\n",
    "\n",
    "        log_artifacts(\"outputs\")\n",
    "\n",
    "#     log_param(\"param1\", randint(0, 100))\n",
    "#     log_metric(\"foo\", random())\n",
    "#     log_metric(\"foo\", random() + 1)\n",
    "#     log_metric(\"foo\", random() + 2)\n",
    "#     if not os.path.exists(\"outputs\"):\n",
    "#         os.makedirs(\"outputs\")\n",
    "#     with open(\"outputs/test.txt\", \"w\") as f:\n",
    "#         f.write(\"hello world!\")\n",
    "\n",
    "#     log_artifacts(\"outputs\")    \n"
   ]
  },
  {
   "cell_type": "code",
   "execution_count": null,
   "metadata": {},
   "outputs": [],
   "source": []
  }
 ],
 "metadata": {
  "kernelspec": {
   "display_name": "Python 3 (ipykernel)",
   "language": "python",
   "name": "python3"
  },
  "language_info": {
   "codemirror_mode": {
    "name": "ipython",
    "version": 3
   },
   "file_extension": ".py",
   "mimetype": "text/x-python",
   "name": "python",
   "nbconvert_exporter": "python",
   "pygments_lexer": "ipython3",
   "version": "3.8.12"
  }
 },
 "nbformat": 4,
 "nbformat_minor": 4
}
